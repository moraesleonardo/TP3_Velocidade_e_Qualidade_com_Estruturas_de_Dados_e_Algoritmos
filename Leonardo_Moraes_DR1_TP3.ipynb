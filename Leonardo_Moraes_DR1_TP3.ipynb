{
  "nbformat": 4,
  "nbformat_minor": 0,
  "metadata": {
    "colab": {
      "provenance": [],
      "authorship_tag": "ABX9TyMAxFxIo134+XGlVYVHYkRE",
      "include_colab_link": true
    },
    "kernelspec": {
      "name": "python3",
      "display_name": "Python 3"
    },
    "language_info": {
      "name": "python"
    }
  },
  "cells": [
    {
      "cell_type": "markdown",
      "metadata": {
        "id": "view-in-github",
        "colab_type": "text"
      },
      "source": [
        "<a href=\"https://colab.research.google.com/github/moraesleonardo/TP3_Velocidade_e_Qualidade_com_Estruturas_de_Dados_e_Algoritmos/blob/main/Leonardo_Moraes_DR1_TP3.ipynb\" target=\"_parent\"><img src=\"https://colab.research.google.com/assets/colab-badge.svg\" alt=\"Open In Colab\"/></a>"
      ]
    },
    {
      "cell_type": "markdown",
      "source": [
        "Questão 1"
      ],
      "metadata": {
        "id": "oSgZcc4EzD0z"
      }
    },
    {
      "cell_type": "code",
      "execution_count": 3,
      "metadata": {
        "colab": {
          "base_uri": "https://localhost:8080/",
          "height": 0
        },
        "id": "57H05MChvwxr",
        "outputId": "68b3ef58-a9c1-490c-b662-c1f239eb262e"
      },
      "outputs": [
        {
          "output_type": "stream",
          "name": "stdout",
          "text": [
            "  [DIR] etapa6\n",
            "    [FILE] quicksort.py\n",
            "    [FILE] quickselect_inplace.py\n",
            "    [FILE] subset_sum.py\n",
            "    [FILE] quicksort_inplace.py\n",
            "    [FILE] subset_sum_Dinanic.py\n",
            "    [FILE] quickselect.py\n",
            "    [FILE] fibonacciMen.py\n",
            "    [FILE] fatorialInterat.py\n",
            "    [FILE] fibonacci.py\n",
            "  [DIR] etapa4\n",
            "    [FILE] PilhaPronta.py\n",
            "    [FILE] HashTable.py\n",
            "    [FILE] Pilha.py\n",
            "    [FILE] FilaPronta.py\n",
            "    [FILE] Fila.py\n",
            "    [FILE] BigO.py\n"
          ]
        }
      ],
      "source": [
        "import os\n",
        "\n",
        "def listar_diretorios_recursivo(caminho, nivel=1):\n",
        "    \"\"\"\n",
        "    Lista todos os arquivos e subdiretórios de um diretório especificado de forma recursiva.\n",
        "    Args:\n",
        "        caminho (str): Caminho do diretório a ser explorado.\n",
        "        nivel (int): Nível de profundidade na hierarquia (usado para identação).\n",
        "    \"\"\"\n",
        "    try:\n",
        "        # Obter todos os itens no diretório atual\n",
        "        itens = os.listdir(caminho)\n",
        "        for item in itens:\n",
        "            # Obter o caminho completo do item\n",
        "            caminho_completo = os.path.join(caminho, item)\n",
        "            # Verificar se é um diretório\n",
        "            if os.path.isdir(caminho_completo):\n",
        "                print(\"  \" * nivel + f\"[DIR] {item}\")\n",
        "                # Chamar recursivamente para explorar o subdiretório\n",
        "                listar_diretorios_recursivo(caminho_completo, nivel + 1)\n",
        "            else:\n",
        "                # Se for um arquivo, exibir\n",
        "                print(\"  \" * nivel + f\"[FILE] {item}\")\n",
        "    except PermissionError:\n",
        "        print(\"  \" * nivel + f\"[PERMISSION DENIED] {caminho}\")\n",
        "    except Exception as e:\n",
        "        print(\"  \" * nivel + f\"[ERROR] {caminho}: {e}\")\n",
        "\n",
        "# Diretório inicial para explorar (use um caminho válido)\n",
        "diretorio_inicial = \"/content/drive/MyDrive/TP3\"\n",
        "\n",
        "# Executar a função no diretório inicial\n",
        "listar_diretorios_recursivo(diretorio_inicial)\n"
      ]
    },
    {
      "cell_type": "markdown",
      "source": [
        "Questão 2"
      ],
      "metadata": {
        "id": "lHatrwW92cRT"
      }
    },
    {
      "cell_type": "markdown",
      "source": [
        "O algoritmo desenvolvido para listar arquivos e subdiretórios de forma recursiva tem complexidade de tempo O(n), onde n representa o número total de arquivos e diretórios no sistema. Isso ocorre porque cada item é processado uma vez, seja para listar ou para acessar o conteúdo do diretório. Em termos de espaço, a complexidade é O(d), onde d é a profundidade máxima da hierarquia de diretórios, representando o espaço usado na pilha de recursão."
      ],
      "metadata": {
        "id": "XhcfVfYK2fUq"
      }
    },
    {
      "cell_type": "markdown",
      "source": [
        "Questão 3"
      ],
      "metadata": {
        "id": "6CKq6apA2eV6"
      }
    },
    {
      "cell_type": "code",
      "source": [
        "def torre_de_hanoi(n, origem, destino, auxiliar):\n",
        "    \"\"\"\n",
        "    Resolve o problema da Torre de Hanói recursivamente.\n",
        "\n",
        "    Args:\n",
        "        n (int): Número de discos.\n",
        "        origem (str): Pino de origem.\n",
        "        destino (str): Pino de destino.\n",
        "        auxiliar (str): Pino auxiliar.\n",
        "    \"\"\"\n",
        "    if n == 1:\n",
        "        # Caso base: mover apenas 1 disco diretamente\n",
        "        print(f\"Mova o disco 1 de {origem} para {destino}\")\n",
        "        return\n",
        "\n",
        "    # Passo 1: Mover n-1 discos de origem para auxiliar\n",
        "    torre_de_hanoi(n - 1, origem, auxiliar, destino)\n",
        "\n",
        "    # Passo 2: Mover o maior disco (disco n) de origem para destino\n",
        "    print(f\"Mova o disco {n} de {origem} para {destino}\")\n",
        "\n",
        "    # Passo 3: Mover os n-1 discos do auxiliar para o destino\n",
        "    torre_de_hanoi(n - 1, auxiliar, destino, origem)\n",
        "\n",
        "# Teste com 3 discos\n",
        "torre_de_hanoi(3, 'A', 'C', 'B')\n"
      ],
      "metadata": {
        "colab": {
          "base_uri": "https://localhost:8080/",
          "height": 0
        },
        "id": "Y9zIDSK22oFl",
        "outputId": "e4208103-897e-428a-c8d3-c55a760befe9"
      },
      "execution_count": 4,
      "outputs": [
        {
          "output_type": "stream",
          "name": "stdout",
          "text": [
            "Mova o disco 1 de A para C\n",
            "Mova o disco 2 de A para B\n",
            "Mova o disco 1 de C para B\n",
            "Mova o disco 3 de A para C\n",
            "Mova o disco 1 de B para A\n",
            "Mova o disco 2 de B para C\n",
            "Mova o disco 1 de A para C\n"
          ]
        }
      ]
    },
    {
      "cell_type": "markdown",
      "source": [
        "A recursão reduz continuamente o problema para tamanhos menores (𝑛 − 1), resolvendo subproblemas até atingir o caso base (𝑛 = 1). Em seguida, as soluções dos subproblemas são combinadas para formar a solução completa, permitindo que o algoritmo siga as regras do jogo e mova os discos corretamente."
      ],
      "metadata": {
        "id": "ZJYnf3yA5nvG"
      }
    },
    {
      "cell_type": "markdown",
      "source": [
        "Questão 4"
      ],
      "metadata": {
        "id": "AX0fgDeF57uE"
      }
    },
    {
      "cell_type": "markdown",
      "source": [
        "Código Recursivo de Fibonacci"
      ],
      "metadata": {
        "id": "2C2fFw_075QB"
      }
    },
    {
      "cell_type": "code",
      "source": [
        "fibonacci_counter = 0  # Contador global para rastrear as chamadas recursivas\n",
        "\n",
        "def fibonacci(n):\n",
        "    global fibonacci_counter\n",
        "    fibonacci_counter += 1\n",
        "    if n == 0:\n",
        "        return 0\n",
        "    elif n == 1:\n",
        "        return 1\n",
        "    else:\n",
        "        return fibonacci(n-1) + fibonacci(n-2)\n",
        "\n",
        "# Testando a função Fibonacci\n",
        "n_fibonacci = 10  # Calcular o 10º termo da sequência de Fibonacci\n",
        "fibonacci_counter = 0  # Reiniciar o contador antes da execução\n",
        "resultado_fibonacci = fibonacci(n_fibonacci)\n",
        "\n",
        "print(f\"Fibonacci({n_fibonacci}) = {resultado_fibonacci}\")\n",
        "print(f\"Número de chamadas recursivas para Fibonacci({n_fibonacci}): {fibonacci_counter}\")\n",
        "\n"
      ],
      "metadata": {
        "colab": {
          "base_uri": "https://localhost:8080/",
          "height": 0
        },
        "id": "VCOXzwiR66yT",
        "outputId": "482731b9-3b84-4cea-856f-ac9f89098382"
      },
      "execution_count": 7,
      "outputs": [
        {
          "output_type": "stream",
          "name": "stdout",
          "text": [
            "Fibonacci(10) = 55\n",
            "Número de chamadas recursivas para Fibonacci(10): 177\n"
          ]
        }
      ]
    },
    {
      "cell_type": "markdown",
      "source": [
        "O contador demonstra o número de chamadas recursivas realizadas e que crescem exponencialmente com n, confirmando a complexidade de tempo O(2^n)."
      ],
      "metadata": {
        "id": "ES0I9Bgs8K3Z"
      }
    },
    {
      "cell_type": "markdown",
      "source": [
        "Código Recursivo de Fatorial"
      ],
      "metadata": {
        "id": "gQQHxuIL9PEl"
      }
    },
    {
      "cell_type": "code",
      "source": [
        "fatorial_counter = 0  # Contador global para rastrear as chamadas recursivas\n",
        "\n",
        "def fatorial(n):\n",
        "    global fatorial_counter\n",
        "    fatorial_counter += 1\n",
        "    if n == 0:\n",
        "        return 1\n",
        "    else:\n",
        "        return n * fatorial(n-1)\n",
        "\n",
        "# Testando a função Fatorial\n",
        "n_fatorial = 10  # Calcular o fatorial de 10\n",
        "fatorial_counter = 0  # Reiniciar o contador antes da execução\n",
        "resultado_fatorial = fatorial(n_fatorial)\n",
        "\n",
        "print(f\"{n_fatorial}! = {resultado_fatorial}\")\n",
        "print(f\"Número de chamadas recursivas para Fatorial({n_fatorial}): {fatorial_counter}\")\n"
      ],
      "metadata": {
        "colab": {
          "base_uri": "https://localhost:8080/",
          "height": 0
        },
        "id": "9eGUtKSb9Ny_",
        "outputId": "66a53273-7a34-4d46-a3f6-8d4ee9c4c6f4"
      },
      "execution_count": 8,
      "outputs": [
        {
          "output_type": "stream",
          "name": "stdout",
          "text": [
            "10! = 3628800\n",
            "Número de chamadas recursivas para Fatorial(10): 11\n"
          ]
        }
      ]
    },
    {
      "cell_type": "markdown",
      "source": [
        "O contador demonstra o número de chamadas recursivas realizadas, que cresce linearmente com n, confirmando a complexidade de tempo O(n)."
      ],
      "metadata": {
        "id": "XQMcnDtN9JeP"
      }
    },
    {
      "cell_type": "markdown",
      "source": [
        "Questão 5"
      ],
      "metadata": {
        "id": "pQcU5WR298e9"
      }
    },
    {
      "cell_type": "code",
      "source": [
        "def quicksort(arr):\n",
        "    \"\"\"\n",
        "    Implementação do algoritmo QuickSort para ordenar uma lista.\n",
        "\n",
        "    Args:\n",
        "        arr (list): Lista de elementos a serem ordenados.\n",
        "\n",
        "    Returns:\n",
        "        list: Lista ordenada.\n",
        "    \"\"\"\n",
        "    # Caso base: listas com 0 ou 1 elemento já estão ordenadas\n",
        "    if len(arr) <= 1:\n",
        "        return arr\n",
        "\n",
        "    # Escolher o pivô (neste caso, o último elemento)\n",
        "    pivô = arr[-1]\n",
        "\n",
        "    # Dividir a lista em sublistas\n",
        "    menores = [x for x in arr[:-1] if x <= pivô]  # Elementos menores ou iguais ao pivô\n",
        "    maiores = [x for x in arr[:-1] if x > pivô]   # Elementos maiores que o pivô\n",
        "\n",
        "    # Chamada recursiva para ordenar as sublistas\n",
        "    return quicksort(menores) + [pivô] + quicksort(maiores)\n",
        "\n",
        "# Testando o algoritmo\n",
        "lista = [10, 3, 7, 5, 6, 2, 8, 4]\n",
        "print(\"Lista original:\", lista)\n",
        "lista_ordenada = quicksort(lista)\n",
        "print(\"Lista ordenada:\", lista_ordenada)\n"
      ],
      "metadata": {
        "colab": {
          "base_uri": "https://localhost:8080/",
          "height": 0
        },
        "id": "dloeDAt49_ts",
        "outputId": "28ce9102-a51b-4f3e-f1be-4b5bd18d69de"
      },
      "execution_count": 1,
      "outputs": [
        {
          "output_type": "stream",
          "name": "stdout",
          "text": [
            "Lista original: [10, 3, 7, 5, 6, 2, 8, 4]\n",
            "Lista ordenada: [2, 3, 4, 5, 6, 7, 8, 10]\n"
          ]
        }
      ]
    },
    {
      "cell_type": "markdown",
      "source": [
        "No QuickSort, a recursão é usada para dividir o problema de ordenação em partes menores através do conceito de divisão e conquista. O algoritmo escolhe um pivô e separa os elementos da lista em duas sublistas: uma contendo os elementos menores ou iguais ao pivô e outra com os elementos maiores. Em seguida, aplica-se recursivamente o QuickSort a cada sublista, repetindo o processo até que as sublistas tenham zero ou um elemento. Por fim, as sublistas ordenadas são combinadas com o pivô, formando a lista final ordenada."
      ],
      "metadata": {
        "id": "RENFKwBurfOi"
      }
    },
    {
      "cell_type": "markdown",
      "source": [
        "Questão 6"
      ],
      "metadata": {
        "id": "0my0_QH_r30K"
      }
    },
    {
      "cell_type": "markdown",
      "source": [
        "O QuickSort é eficiente no caso médio e no melhor caso, com complexidade O(n log n), mas pode sofrer no pior caso (O(n2)) se o pivô for escolhido de forma desfavorável. Seu desempenho geral e baixa necessidade de memória adicional tornam o QuickSort um dos algoritmos de ordenação mais populares."
      ],
      "metadata": {
        "id": "cOd9d_jmtl-t"
      }
    },
    {
      "cell_type": "markdown",
      "source": [
        "Questão 7"
      ],
      "metadata": {
        "id": "qerer0dgtnGW"
      }
    },
    {
      "cell_type": "code",
      "source": [
        "def quickselect(arr, k):\n",
        "    \"\"\"\n",
        "    Encontra o k-ésimo menor elemento de uma lista usando o algoritmo QuickSelect.\n",
        "\n",
        "    Args:\n",
        "        arr (list): Lista de elementos.\n",
        "        k (int): Índice (baseado em 1) do elemento desejado no conjunto ordenado.\n",
        "\n",
        "    Returns:\n",
        "        int: O k-ésimo menor elemento.\n",
        "    \"\"\"\n",
        "    if len(arr) == 1:\n",
        "        return arr[0]\n",
        "\n",
        "    # Escolher o pivô (neste caso, o último elemento)\n",
        "    pivô = arr[-1]\n",
        "\n",
        "    # Dividir a lista em menores e maiores\n",
        "    menores = [x for x in arr[:-1] if x <= pivô]\n",
        "    maiores = [x for x in arr[:-1] if x > pivô]\n",
        "\n",
        "    # Tamanho do lado esquerdo\n",
        "    posicao_pivô = len(menores) + 1  # Posição do pivô no conjunto ordenado\n",
        "\n",
        "    # Verificar em qual partição está o k-ésimo menor elemento\n",
        "    if k == posicao_pivô:\n",
        "        return pivô\n",
        "    elif k < posicao_pivô:\n",
        "        return quickselect(menores, k)\n",
        "    else:\n",
        "        return quickselect(maiores, k - posicao_pivô)\n",
        "\n",
        "# Teste do algoritmo\n",
        "lista = [10, 4, 5, 8, 6, 11, 26]\n",
        "k = 3  # Queremos o 3º menor elemento\n",
        "resultado = quickselect(lista, k)\n",
        "print(f\"O {k}º menor elemento é: {resultado}\")\n"
      ],
      "metadata": {
        "colab": {
          "base_uri": "https://localhost:8080/",
          "height": 0
        },
        "id": "T9ehprR5tlsw",
        "outputId": "f10eb4aa-75c2-4857-da82-7edf11886478"
      },
      "execution_count": 2,
      "outputs": [
        {
          "output_type": "stream",
          "name": "stdout",
          "text": [
            "O 3º menor elemento é: 6\n"
          ]
        }
      ]
    },
    {
      "cell_type": "markdown",
      "source": [
        "Em vez do QuickSelect ordenar toda a lista, o algoritmo foca apenas em uma parte considerada relevante. Após escolher um pivô, a lista é dividida em elementos menores ou iguais e maiores que o pivô. Com base na posição do pivô na lista ordenada, o algoritmo determina se o elemento desejado está na sublista dos menores, dos maiores ou é o próprio pivô. Isso reduz significativamente o tamanho do problema a cada iteração, alcançando uma complexidade média de O(n)."
      ],
      "metadata": {
        "id": "a3-bxKNSu5i7"
      }
    },
    {
      "cell_type": "markdown",
      "source": [
        "O QuickSelect é geralmente preferido por ser mais eficiente na média, especialmente em grandes conjuntos de dados, enquanto a busca linear é útil para casos simples ou listas muito pequenas."
      ],
      "metadata": {
        "id": "rCUPZ-j3u5fc"
      }
    },
    {
      "cell_type": "markdown",
      "source": [
        "Questão 8"
      ],
      "metadata": {
        "id": "v2bQwvcNu-3b"
      }
    },
    {
      "cell_type": "markdown",
      "source": [
        "Ao trabalhar com recursão, limites de profundidade de chamada podem causar um stackoverflow, especialmente em linguagens com restrições ao número de chamadas recursivas. Repetição excessiva de cálculos ocorre quando subproblemas são recalculados várias vezes, resultando em ineficiência exponencial. Em tais casos, abordagens iterativas ou recursão com memoização podem ser mais eficientes."
      ],
      "metadata": {
        "id": "jYIblq2P45zk"
      }
    },
    {
      "cell_type": "markdown",
      "source": [
        "Otimização com Memoização: a memoização armazena os resultados de subproblemas em uma estrutura como um dicionário evitando cálculos repetidos. A memoização é ideal para manter a recursão quando a clareza e estrutura hierárquica são importantes."
      ],
      "metadata": {
        "id": "3YMsW_U045o6"
      }
    },
    {
      "cell_type": "code",
      "source": [
        "def fibonacci_memo(n, memo={}):\n",
        "    \"\"\"\n",
        "    Calcula o Fibonacci usando memoização para evitar cálculos redundantes.\n",
        "\n",
        "    Args:\n",
        "        n (int): Índice na sequência de Fibonacci.\n",
        "        memo (dict): Dicionário para armazenar resultados previamente calculados.\n",
        "\n",
        "    Returns:\n",
        "        int: O n-ésimo número de Fibonacci.\n",
        "    \"\"\"\n",
        "    if n in memo:  # Verificar se o resultado já foi calculado\n",
        "        return memo[n]\n",
        "    if n <= 1:  # Caso base\n",
        "        return n\n",
        "    # Calcular e armazenar no memo\n",
        "    memo[n] = fibonacci_memo(n-1, memo) + fibonacci_memo(n-2, memo)\n",
        "    return memo[n]\n",
        "\n",
        "# Testando a função otimizada\n",
        "print(fibonacci_memo(50))  # Resultado: 12586269025 (rápido mesmo para entradas grandes)\n"
      ],
      "metadata": {
        "colab": {
          "base_uri": "https://localhost:8080/",
          "height": 0
        },
        "id": "CL4sNREkr6X4",
        "outputId": "4e5e3a51-6473-4e79-845f-ac258d8220d6"
      },
      "execution_count": 3,
      "outputs": [
        {
          "output_type": "stream",
          "name": "stdout",
          "text": [
            "12586269025\n"
          ]
        }
      ]
    },
    {
      "cell_type": "markdown",
      "source": [
        "Questão 9"
      ],
      "metadata": {
        "id": "kiMKTFfL5ADx"
      }
    },
    {
      "cell_type": "markdown",
      "source": [
        "        10\n",
        "       /  \\\n",
        "      5    15\n",
        "     / \\     \\\n",
        "    2   7     20\n"
      ],
      "metadata": {
        "id": "aiPptOfd5U3g"
      }
    },
    {
      "cell_type": "code",
      "source": [
        "class No:\n",
        "    \"\"\"\n",
        "    Classe que define um nó da árvore binária.\n",
        "    \"\"\"\n",
        "    def __init__(self, valor):\n",
        "        self.valor = valor\n",
        "        self.esquerda = None\n",
        "        self.direita = None\n",
        "\n",
        "def in_order_traversal(raiz):\n",
        "    \"\"\"\n",
        "    Percorre uma árvore binária em ordem (in-order) e retorna os valores dos nós.\n",
        "\n",
        "    Args:\n",
        "        raiz (No): Nó raiz da árvore binária.\n",
        "\n",
        "    Returns:\n",
        "        list: Lista com os valores dos nós em ordem.\n",
        "    \"\"\"\n",
        "    if raiz is None:\n",
        "        return []\n",
        "\n",
        "    # Combina os resultados da subárvore esquerda, o nó raiz e a subárvore direita\n",
        "    return in_order_traversal(raiz.esquerda) + [raiz.valor] + in_order_traversal(raiz.direita)\n",
        "\n",
        "# Exemplo de uso\n",
        "if __name__ == \"__main__\":\n",
        "    # Criando uma árvore binária\n",
        "    raiz = No(10)\n",
        "    raiz.esquerda = No(5)\n",
        "    raiz.direita = No(15)\n",
        "    raiz.esquerda.esquerda = No(2)\n",
        "    raiz.esquerda.direita = No(7)\n",
        "    raiz.direita.direita = No(20)\n",
        "\n",
        "    # Percorrendo a árvore\n",
        "    resultado = in_order_traversal(raiz)\n",
        "    print(\"Valores em ordem:\", resultado)\n"
      ],
      "metadata": {
        "colab": {
          "base_uri": "https://localhost:8080/",
          "height": 0
        },
        "id": "IARHUCgX5GF6",
        "outputId": "a70af96a-7009-47d4-e64f-f655f522dd90"
      },
      "execution_count": 4,
      "outputs": [
        {
          "output_type": "stream",
          "name": "stdout",
          "text": [
            "Valores em ordem: [2, 5, 7, 10, 15, 20]\n"
          ]
        }
      ]
    },
    {
      "cell_type": "markdown",
      "source": [
        "Questão 10"
      ],
      "metadata": {
        "id": "cD0Mor6K6gil"
      }
    },
    {
      "cell_type": "markdown",
      "source": [
        "A recursão facilita a navegação por árvores já que permite explorar cada subestrutura de forma natural. Em uma árvore binária, divide o problema em percorrer a subárvore esquerda, acessar o nó atual e, em seguida, a subárvore direita. Cada nó é processado apenas uma vez, com pilha de chamadas proporcional à altura da árvore."
      ],
      "metadata": {
        "id": "z6kks0Cm6itl"
      }
    },
    {
      "cell_type": "markdown",
      "source": [
        "Questão 11"
      ],
      "metadata": {
        "id": "ChA4Ukj16k6s"
      }
    },
    {
      "cell_type": "code",
      "source": [
        "import sys\n",
        "\n",
        "# Ajustar o limite de recursão para 1000 (padrão do Python)\n",
        "sys.setrecursionlimit(1000)\n",
        "\n",
        "# Função recursiva para calcular o fatorial\n",
        "def fatorial_recursivo(n):\n",
        "    if n == 0:\n",
        "        return 1\n",
        "    return n * fatorial_recursivo(n - 1)\n",
        "\n",
        "# Confirmar o limite atual de recursão\n",
        "print(\"Limite atual de recursão:\", sys.getrecursionlimit())\n",
        "\n",
        "# Testar o fatorial de 1001 e capturar o erro\n",
        "try:\n",
        "    print(fatorial_recursivo(1001))\n",
        "except RecursionError:\n",
        "    print(\"Erro: Stack Overflow confirmado para fatorial_recursivo(1001).\")"
      ],
      "metadata": {
        "colab": {
          "base_uri": "https://localhost:8080/",
          "height": 0
        },
        "id": "9O4QHHv46mFM",
        "outputId": "f3a47329-8ed5-4a08-bc74-7c58d66cfa7e"
      },
      "execution_count": 6,
      "outputs": [
        {
          "output_type": "stream",
          "name": "stdout",
          "text": [
            "Limite atual de recursão: 1000\n",
            "Erro: Stack Overflow confirmado para fatorial_recursivo(1001).\n"
          ]
        }
      ]
    },
    {
      "cell_type": "markdown",
      "source": [
        "Conversão para Algoritmo Iterativo"
      ],
      "metadata": {
        "id": "6h8Uw3oRuJw6"
      }
    },
    {
      "cell_type": "code",
      "source": [
        "def fatorial_iterativo(n):\n",
        "    \"\"\"\n",
        "    Calcula o fatorial de um número usando um loop iterativo.\n",
        "\n",
        "    Args:\n",
        "        n (int): Número para calcular o fatorial.\n",
        "\n",
        "    Returns:\n",
        "        int: Fatorial de n.\n",
        "    \"\"\"\n",
        "    resultado = 1\n",
        "    for i in range(1, n + 1):\n",
        "        resultado *= i\n",
        "    return resultado\n",
        "\n",
        "# Testando o algoritmo iterativo\n",
        "n = 1001\n",
        "try:\n",
        "    print(f\"Fatorial iterativo de {n}:\", fatorial_iterativo(n))\n",
        "except OverflowError:\n",
        "    print(f\"Erro: O resultado é muito grande para ser armazenado.\")\n"
      ],
      "metadata": {
        "colab": {
          "base_uri": "https://localhost:8080/",
          "height": 0
        },
        "id": "z8m1JfzjuDgj",
        "outputId": "8e9ad155-57a8-4f05-f8b4-0c28ba6529d9"
      },
      "execution_count": 7,
      "outputs": [
        {
          "output_type": "stream",
          "name": "stdout",
          "text": [
            "Fatorial iterativo de 1001: 402789647337170867317246136356926989705094239074925347176343710340368450911027649612636252695456374205280468598807393254690298539867803367460225153499614535588421928591160833678742451354915921252299285456946271396995850437959540645019696372741142787347450281325324373824456300226871609431497826989489109522725791691167945698509282421538632966523376679891823696900982075223188279465194065489111498586522997573307838057934994706212934291477882221464914058745808179795130018969175605739824237247684512790169648013778158661520384916357285547219660337504067910087936301580874662367543921288988208261944834178369169805682489420504038334529389177845089679546075023305854006141256288633820079940395329251563788399404652902154519302928365169452383531030755684578503851488154092323576150311569325891190105926118761607100286827930472944913272420825078912158741589850136017030887975452922434889688775883386977825215904423682478943313806072144097432418695807412571292308739802481089407002523955080148184062810447564594783139830113821372260474145316521647368313934670783858482781506915288378941348078689691815657785305896912277993200639858696294199549107738635599538328374931258525869323348477334798827676297868823693023377418942304272267800509765805435653787530370118261219994752588866451072715583785495394684524593296728611334955079882857173250037068541860372512693170819259309411027837176612444692649174536429745421086287708588130082168792750697158901737130221751430550976429258055277255676893874108456870904122902259417224707137723406125811549952159629766771063079472679280213882978523785424760309678138268708239764925768714349554665438389311198715040908077757086900159389712443987670244241787904585093011546861502058550090914877900852701619648229332192401075747543562989953271508977501771085759521631427816116191761031257454497039673414248149210836002497114107565960458576525212556159634975715552638678172137468172843066451093984443636560722213668172225585711566558134467392654185460222589723312097599987253417831473939565071006344352518096564427781204200068323913056897090916602712260306869786107237077572445866572945760977721639408338430009976028970539150822336553856613962747814621747092348996915755983464741082000337526945990059365493439921937093368896754791416759604324895514660325913157843796039917819613717350380997781225472000000000000000000000000000000000000000000000000000000000000000000000000000000000000000000000000000000000000000000000000000000000000000000000000000000000000000000000000000000000000000000000000000000000000000000000000000000000000000000000000000000000\n"
          ]
        }
      ]
    },
    {
      "cell_type": "markdown",
      "source": [
        "Questão 12"
      ],
      "metadata": {
        "id": "kO2ohnARw9fW"
      }
    },
    {
      "cell_type": "code",
      "source": [
        "def soma_recursiva(lista):\n",
        "    \"\"\"\n",
        "    Calcula a soma dos elementos de uma lista usando recursão.\n",
        "\n",
        "    Args:\n",
        "        lista (list): Lista de números.\n",
        "\n",
        "    Returns:\n",
        "        int/float: Soma dos elementos da lista.\n",
        "    \"\"\"\n",
        "    # Caso base: lista vazia tem soma zero\n",
        "    if not lista:\n",
        "        return 0\n",
        "    # Passo recursivo: soma o primeiro elemento com a soma do restante\n",
        "    return lista[0] + soma_recursiva(lista[1:])\n",
        "\n",
        "# Testando a função\n",
        "lista = [4, 6, 8, 10, 12]\n",
        "resultado = soma_recursiva(lista)\n",
        "print(f\"Soma dos elementos da lista {lista}: {resultado}\")\n"
      ],
      "metadata": {
        "colab": {
          "base_uri": "https://localhost:8080/",
          "height": 0
        },
        "id": "PvMYXTWhww7A",
        "outputId": "bd18a1d9-faf9-4fd4-bd49-76590f95c598"
      },
      "execution_count": 9,
      "outputs": [
        {
          "output_type": "stream",
          "name": "stdout",
          "text": [
            "Soma dos elementos da lista [4, 6, 8, 10, 12]: 40\n"
          ]
        }
      ]
    },
    {
      "cell_type": "markdown",
      "source": [
        "Questão 13"
      ],
      "metadata": {
        "id": "NxeX31uKxSu_"
      }
    },
    {
      "cell_type": "code",
      "source": [
        "def verificar_palindromo(palavra):\n",
        "    \"\"\"\n",
        "    Verifica se uma palavra é um palíndromo usando recursão.\n",
        "\n",
        "    Args:\n",
        "        palavra (str): Palavra a ser verificada.\n",
        "\n",
        "    Returns:\n",
        "        bool: True se a palavra for um palíndromo, False caso contrário.\n",
        "    \"\"\"\n",
        "    # Caso base: palavra com 0 ou 1 caracteres é sempre um palíndromo\n",
        "    if len(palavra) <= 1:\n",
        "        return True\n",
        "\n",
        "    # Comparar o primeiro e o último caractere\n",
        "    if palavra[0] != palavra[-1]:\n",
        "        return False\n",
        "\n",
        "    # Passo recursivo: verificar o restante da palavra (removendo primeiro e último caractere)\n",
        "    return verificar_palindromo(palavra[1:-1])\n",
        "\n",
        "# Testando a função\n",
        "palavras = [\"ana\", \"palindromo\", \"arara\", \"python\"]\n",
        "for palavra in palavras:\n",
        "    resultado = verificar_palindromo(palavra)\n",
        "    print(f\"A palavra '{palavra}' é um palíndromo? {resultado}\")\n"
      ],
      "metadata": {
        "colab": {
          "base_uri": "https://localhost:8080/",
          "height": 0
        },
        "id": "IJSX7NePw3Tc",
        "outputId": "7b09fd83-91ed-4665-bda0-8e78cf1eee71"
      },
      "execution_count": 11,
      "outputs": [
        {
          "output_type": "stream",
          "name": "stdout",
          "text": [
            "A palavra 'ana' é um palíndromo? True\n",
            "A palavra 'palindromo' é um palíndromo? False\n",
            "A palavra 'arara' é um palíndromo? True\n",
            "A palavra 'python' é um palíndromo? False\n"
          ]
        }
      ]
    },
    {
      "cell_type": "markdown",
      "source": [
        "Questão 14"
      ],
      "metadata": {
        "id": "7TsZW5A_3iMq"
      }
    },
    {
      "cell_type": "code",
      "source": [
        "def soma_lista(lista):\n",
        "    \"\"\"\n",
        "    Calcula a soma de todos os elementos de uma lista de números inteiros usando recursão.\n",
        "\n",
        "    Args:\n",
        "        lista (list): Lista de números inteiros.\n",
        "\n",
        "    Returns:\n",
        "        int: Soma de todos os elementos da lista.\n",
        "    \"\"\"\n",
        "    # Caso base: se a lista está vazia, a soma é 0\n",
        "    if not lista:\n",
        "        return 0\n",
        "\n",
        "    # Passo recursivo: somar o primeiro elemento com a soma do restante\n",
        "    return lista[0] + soma_lista(lista[1:])\n",
        "\n",
        "# Listas de teste\n",
        "lista1 = [1, 2, 3, 4]  # Soma esperada: 10\n",
        "lista2 = [-5, 10, 15, -10, 20]  # Soma esperada: 30\n",
        "\n",
        "# Testando a função com as listas\n",
        "resultado1 = soma_lista(lista1)\n",
        "resultado2 = soma_lista(lista2)\n",
        "\n",
        "print(f\"Soma dos elementos da lista {lista1}: {resultado1}\")\n",
        "print(f\"Soma dos elementos da lista {lista2}: {resultado2}\")"
      ],
      "metadata": {
        "colab": {
          "base_uri": "https://localhost:8080/",
          "height": 0
        },
        "id": "b79qbHz73F7o",
        "outputId": "5f535b4b-c14e-47d5-9453-55e26d2c2cd7"
      },
      "execution_count": 13,
      "outputs": [
        {
          "output_type": "stream",
          "name": "stdout",
          "text": [
            "Soma dos elementos da lista [1, 2, 3, 4]: 10\n",
            "Soma dos elementos da lista [-5, 10, 15, -10, 20]: 30\n"
          ]
        }
      ]
    },
    {
      "cell_type": "markdown",
      "source": [
        "Questão 15"
      ],
      "metadata": {
        "id": "SNeFPwmI3omS"
      }
    },
    {
      "cell_type": "code",
      "source": [
        "def contar_repeticoes(string, caractere):\n",
        "    \"\"\"\n",
        "    Conta o número de vezes que um caractere aparece em uma string usando recursão.\n",
        "\n",
        "    Args:\n",
        "        string (str): A string na qual contar as ocorrências.\n",
        "        caractere (str): O caractere a ser contado.\n",
        "\n",
        "    Returns:\n",
        "        int: O número de vezes que o caractere aparece na string.\n",
        "    \"\"\"\n",
        "    # Caso base: se a string estiver vazia, não há ocorrências\n",
        "    if not string:\n",
        "        return 0\n",
        "\n",
        "    # Verificar se o primeiro caractere da string é igual ao caractere buscado\n",
        "    if string[0] == caractere:\n",
        "        return 1 + contar_repeticoes(string[1:], caractere)\n",
        "    else:\n",
        "        return contar_repeticoes(string[1:], caractere)\n",
        "\n",
        "# Testando a função\n",
        "string1 = \"banana\"\n",
        "caractere1 = \"a\"\n",
        "resultado1 = contar_repeticoes(string1, caractere1)\n",
        "\n",
        "string2 = \"abracadabra\"\n",
        "caractere2 = \"b\"\n",
        "resultado2 = contar_repeticoes(string2, caractere2)\n",
        "\n",
        "print(f\"O caractere '{caractere1}' aparece {resultado1} vezes na string '{string1}'.\")\n",
        "print(f\"O caractere '{caractere2}' aparece {resultado2} vezes na string '{string2}'.\")\n"
      ],
      "metadata": {
        "colab": {
          "base_uri": "https://localhost:8080/",
          "height": 0
        },
        "id": "kMCyOXHF3p6u",
        "outputId": "c5baa5dc-d700-4d2e-81f1-0548f2859d8f"
      },
      "execution_count": 14,
      "outputs": [
        {
          "output_type": "stream",
          "name": "stdout",
          "text": [
            "O caractere 'a' aparece 3 vezes na string 'banana'.\n",
            "O caractere 'b' aparece 2 vezes na string 'abracadabra'.\n"
          ]
        }
      ]
    },
    {
      "cell_type": "markdown",
      "source": [
        "Questão 16"
      ],
      "metadata": {
        "id": "GstS-WLI3qNG"
      }
    },
    {
      "cell_type": "code",
      "source": [
        "def inverter_string(string):\n",
        "    \"\"\"\n",
        "    Inverte uma string usando recursão.\n",
        "\n",
        "    Args:\n",
        "        string (str): A string a ser invertida.\n",
        "\n",
        "    Returns:\n",
        "        str: A string invertida.\n",
        "    \"\"\"\n",
        "    # Caso base: se a string for vazia ou tiver apenas um caractere, retorna ela mesma\n",
        "    if len(string) <= 1:\n",
        "        return string\n",
        "\n",
        "    # Passo recursivo: último caractere + inversão do restante da string\n",
        "    return string[-1] + inverter_string(string[:-1])\n",
        "\n",
        "# Testando a função\n",
        "string1 = \"recursao\"\n",
        "resultado1 = inverter_string(string1)\n",
        "\n",
        "string2 = \"palindromo\"\n",
        "resultado2 = inverter_string(string2)\n",
        "\n",
        "print(f\"A string invertida de '{string1}' é '{resultado1}'.\")\n",
        "print(f\"A string invertida de '{string2}' é '{resultado2}'.\")\n"
      ],
      "metadata": {
        "colab": {
          "base_uri": "https://localhost:8080/",
          "height": 0
        },
        "id": "RapHfrc643uP",
        "outputId": "e2191b64-b0d6-4408-84b5-3460e5ecd117"
      },
      "execution_count": 15,
      "outputs": [
        {
          "output_type": "stream",
          "name": "stdout",
          "text": [
            "A string invertida de 'recursao' é 'oasrucer'.\n",
            "A string invertida de 'palindromo' é 'omordnilap'.\n"
          ]
        }
      ]
    }
  ]
}